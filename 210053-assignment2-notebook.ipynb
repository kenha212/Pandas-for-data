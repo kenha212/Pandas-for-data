{
 "cells": [
  {
   "cell_type": "code",
   "execution_count": 1,
   "id": "1cc12e4e-805f-4289-bddb-6b7dffea8e70",
   "metadata": {},
   "outputs": [],
   "source": [
    "import pandas as pd \n",
    "import matplotlib.pyplot as plt \n",
    "import seaborn as sns\n",
    "import numpy as np"
   ]
  },
  {
   "cell_type": "code",
   "execution_count": 2,
   "id": "958dee5b-c45b-4eba-9773-faf180a51a43",
   "metadata": {
    "tags": []
   },
   "outputs": [
    {
     "name": "stderr",
     "output_type": "stream",
     "text": [
      "c:\\Users\\Huy\\AppData\\Local\\Programs\\Python\\Python39\\lib\\site-packages\\IPython\\core\\interactiveshell.py:3398: DtypeWarning: Columns (0,1,2,5,7) have mixed types.Specify dtype option on import or set low_memory=False.\n",
      "  exec(code_obj, self.user_global_ns, self.user_ns)\n"
     ]
    }
   ],
   "source": [
    "data = pd.read_csv('210053-data.csv')"
   ]
  },
  {
   "cell_type": "code",
   "execution_count": 3,
   "id": "7472d666-963d-4a07-a1af-5ea11195657a",
   "metadata": {},
   "outputs": [],
   "source": [
    "data['Profit'] = (data['Sale_Price'] - data['Retail_Price']) #Create Profit column represent profit of each sale\n",
    "data['Profit_Percent'] = (data['Profit']*100/data['Retail_Price']) #Create Profit_Percent representing the margin of the sale \n"
   ]
  },
  {
   "cell_type": "code",
   "execution_count": 4,
   "id": "bb0ead5d-28a7-4bd1-b3c4-62031e3f828e",
   "metadata": {},
   "outputs": [],
   "source": [
    "def rating(profit_per): #Function to rate the margin quality based on the Profit_Percent values \n",
    "    \n",
    "    if profit_per < 10:\n",
    "        return 'Poor'\n",
    "    elif profit_per <= 20:\n",
    "        return 'Healthy'\n",
    "    elif profit_per >= 20:\n",
    "        return 'High'\n",
    "        "
   ]
  },
  {
   "cell_type": "code",
   "execution_count": 5,
   "id": "12f0c838-8e26-490a-810b-2142060f9723",
   "metadata": {},
   "outputs": [
    {
     "data": {
      "text/plain": [
       "Order_Date        948619\n",
       "Brand             948619\n",
       "Sneaker_Name      948619\n",
       "Sale_Price        948618\n",
       "Retail_Price      948619\n",
       "Release Date      948619\n",
       "Shoe_Size         948619\n",
       "Buyer_Region      948619\n",
       "Profit            948619\n",
       "Profit_Percent    948619\n",
       "dtype: int64"
      ]
     },
     "execution_count": 5,
     "metadata": {},
     "output_type": "execute_result"
    }
   ],
   "source": [
    "data.isna().sum() #Total of NA values (In this case these parts of the dataset were just all blanks)"
   ]
  },
  {
   "cell_type": "code",
   "execution_count": 6,
   "id": "9f6d902b-5816-4683-9534-cb5a444a9c51",
   "metadata": {},
   "outputs": [
    {
     "data": {
      "text/plain": [
       "951457"
      ]
     },
     "execution_count": 6,
     "metadata": {},
     "output_type": "execute_result"
    }
   ],
   "source": [
    "data.duplicated().sum() #Total of duplicated values (In this case these parts of the dataset were just all blanks)"
   ]
  },
  {
   "cell_type": "code",
   "execution_count": 7,
   "id": "cd457523-57ee-4486-a769-657b3a2ff44a",
   "metadata": {},
   "outputs": [
    {
     "data": {
      "text/plain": [
       "Order_Date        0\n",
       "Brand             0\n",
       "Sneaker_Name      0\n",
       "Sale_Price        0\n",
       "Retail_Price      0\n",
       "Release Date      0\n",
       "Shoe_Size         0\n",
       "Buyer_Region      0\n",
       "Profit            0\n",
       "Profit_Percent    0\n",
       "dtype: int64"
      ]
     },
     "execution_count": 7,
     "metadata": {},
     "output_type": "execute_result"
    }
   ],
   "source": [
    "data1 = data.dropna()\n",
    "data1 = data1.drop_duplicates()\n",
    "data1.isna().sum()\n",
    "\n",
    "#Remove all of the \"blanks\""
   ]
  },
  {
   "cell_type": "code",
   "execution_count": 8,
   "id": "6899a0aa-133c-4803-9d7c-5f7e2cd01057",
   "metadata": {},
   "outputs": [],
   "source": [
    "data1['Rating_Profit'] = data['Profit_Percent'].apply(rating) #Apply the rating function to create a new column, rating each transaction"
   ]
  },
  {
   "cell_type": "code",
   "execution_count": 9,
   "id": "28505c67-053f-4566-bbfc-d9ba1e7db9e6",
   "metadata": {},
   "outputs": [],
   "source": [
    "data1 = data1.astype({\"Retail_Price\":\"int\",\"Sale_Price\":\"int\",\"Profit\":\"int\"}) #Set the data type for Retail_Price, Sale_Price, Profit to be int"
   ]
  },
  {
   "cell_type": "code",
   "execution_count": 10,
   "id": "e74c5b58-9a7a-40e4-a298-2a7c82a830d3",
   "metadata": {},
   "outputs": [
    {
     "data": {
      "text/plain": [
       "(97116, 11)"
      ]
     },
     "execution_count": 10,
     "metadata": {},
     "output_type": "execute_result"
    }
   ],
   "source": [
    "data1.shape #(columns x rows)"
   ]
  },
  {
   "cell_type": "code",
   "execution_count": 11,
   "id": "9def2a99-9aeb-4ba3-8eb4-8be3b82db1e9",
   "metadata": {
    "tags": []
   },
   "outputs": [
    {
     "name": "stdout",
     "output_type": "stream",
     "text": [
      "<class 'pandas.core.frame.DataFrame'>\n",
      "Int64Index: 97116 entries, 0 to 99955\n",
      "Data columns (total 11 columns):\n",
      " #   Column          Non-Null Count  Dtype  \n",
      "---  ------          --------------  -----  \n",
      " 0   Order_Date      97116 non-null  object \n",
      " 1   Brand           97116 non-null  object \n",
      " 2   Sneaker_Name    97116 non-null  object \n",
      " 3   Sale_Price      97116 non-null  int32  \n",
      " 4   Retail_Price    97116 non-null  int32  \n",
      " 5   Release Date    97116 non-null  object \n",
      " 6   Shoe_Size       97116 non-null  float64\n",
      " 7   Buyer_Region    97116 non-null  object \n",
      " 8   Profit          97116 non-null  int32  \n",
      " 9   Profit_Percent  97116 non-null  float64\n",
      " 10  Rating_Profit   97116 non-null  object \n",
      "dtypes: float64(2), int32(3), object(6)\n",
      "memory usage: 7.8+ MB\n"
     ]
    }
   ],
   "source": [
    "data1.info() #brief infomation of the dataset "
   ]
  },
  {
   "cell_type": "code",
   "execution_count": 12,
   "id": "143b443f-b324-4847-9636-49c0916e603f",
   "metadata": {},
   "outputs": [
    {
     "data": {
      "text/html": [
       "<div>\n",
       "<style scoped>\n",
       "    .dataframe tbody tr th:only-of-type {\n",
       "        vertical-align: middle;\n",
       "    }\n",
       "\n",
       "    .dataframe tbody tr th {\n",
       "        vertical-align: top;\n",
       "    }\n",
       "\n",
       "    .dataframe thead th {\n",
       "        text-align: right;\n",
       "    }\n",
       "</style>\n",
       "<table border=\"1\" class=\"dataframe\">\n",
       "  <thead>\n",
       "    <tr style=\"text-align: right;\">\n",
       "      <th></th>\n",
       "      <th>Order_Date</th>\n",
       "      <th>Brand</th>\n",
       "      <th>Sneaker_Name</th>\n",
       "      <th>Sale_Price</th>\n",
       "      <th>Retail_Price</th>\n",
       "      <th>Release Date</th>\n",
       "      <th>Shoe_Size</th>\n",
       "      <th>Buyer_Region</th>\n",
       "      <th>Profit</th>\n",
       "      <th>Profit_Percent</th>\n",
       "      <th>Rating_Profit</th>\n",
       "    </tr>\n",
       "  </thead>\n",
       "  <tbody>\n",
       "    <tr>\n",
       "      <th>0</th>\n",
       "      <td>9/1/2017</td>\n",
       "      <td>Yeezy</td>\n",
       "      <td>Adidas-Yeezy-Boost-350-Low-V2-Beluga</td>\n",
       "      <td>1097</td>\n",
       "      <td>220</td>\n",
       "      <td>9/24/2016</td>\n",
       "      <td>11.0</td>\n",
       "      <td>California</td>\n",
       "      <td>877</td>\n",
       "      <td>398.636364</td>\n",
       "      <td>High</td>\n",
       "    </tr>\n",
       "    <tr>\n",
       "      <th>1</th>\n",
       "      <td>9/1/2017</td>\n",
       "      <td>Yeezy</td>\n",
       "      <td>Adidas-Yeezy-Boost-350-V2-Core-Black-Copper</td>\n",
       "      <td>685</td>\n",
       "      <td>220</td>\n",
       "      <td>11/23/2016</td>\n",
       "      <td>11.0</td>\n",
       "      <td>California</td>\n",
       "      <td>465</td>\n",
       "      <td>211.363636</td>\n",
       "      <td>High</td>\n",
       "    </tr>\n",
       "    <tr>\n",
       "      <th>2</th>\n",
       "      <td>9/1/2017</td>\n",
       "      <td>Yeezy</td>\n",
       "      <td>Adidas-Yeezy-Boost-350-V2-Core-Black-Green</td>\n",
       "      <td>690</td>\n",
       "      <td>220</td>\n",
       "      <td>11/23/2016</td>\n",
       "      <td>11.0</td>\n",
       "      <td>California</td>\n",
       "      <td>470</td>\n",
       "      <td>213.636364</td>\n",
       "      <td>High</td>\n",
       "    </tr>\n",
       "    <tr>\n",
       "      <th>3</th>\n",
       "      <td>9/1/2017</td>\n",
       "      <td>Yeezy</td>\n",
       "      <td>Adidas-Yeezy-Boost-350-V2-Core-Black-Red</td>\n",
       "      <td>1075</td>\n",
       "      <td>220</td>\n",
       "      <td>11/23/2016</td>\n",
       "      <td>11.5</td>\n",
       "      <td>Kentucky</td>\n",
       "      <td>855</td>\n",
       "      <td>388.636364</td>\n",
       "      <td>High</td>\n",
       "    </tr>\n",
       "    <tr>\n",
       "      <th>4</th>\n",
       "      <td>9/1/2017</td>\n",
       "      <td>Yeezy</td>\n",
       "      <td>Adidas-Yeezy-Boost-350-V2-Core-Black-Red-2017</td>\n",
       "      <td>828</td>\n",
       "      <td>220</td>\n",
       "      <td>2/11/2017</td>\n",
       "      <td>11.0</td>\n",
       "      <td>Rhode Island</td>\n",
       "      <td>608</td>\n",
       "      <td>276.363636</td>\n",
       "      <td>High</td>\n",
       "    </tr>\n",
       "  </tbody>\n",
       "</table>\n",
       "</div>"
      ],
      "text/plain": [
       "  Order_Date   Brand                                   Sneaker_Name  \\\n",
       "0   9/1/2017   Yeezy           Adidas-Yeezy-Boost-350-Low-V2-Beluga   \n",
       "1   9/1/2017   Yeezy    Adidas-Yeezy-Boost-350-V2-Core-Black-Copper   \n",
       "2   9/1/2017   Yeezy     Adidas-Yeezy-Boost-350-V2-Core-Black-Green   \n",
       "3   9/1/2017   Yeezy       Adidas-Yeezy-Boost-350-V2-Core-Black-Red   \n",
       "4   9/1/2017   Yeezy  Adidas-Yeezy-Boost-350-V2-Core-Black-Red-2017   \n",
       "\n",
       "   Sale_Price  Retail_Price Release Date  Shoe_Size  Buyer_Region  Profit  \\\n",
       "0        1097           220    9/24/2016       11.0    California     877   \n",
       "1         685           220   11/23/2016       11.0    California     465   \n",
       "2         690           220   11/23/2016       11.0    California     470   \n",
       "3        1075           220   11/23/2016       11.5      Kentucky     855   \n",
       "4         828           220    2/11/2017       11.0  Rhode Island     608   \n",
       "\n",
       "   Profit_Percent Rating_Profit  \n",
       "0      398.636364          High  \n",
       "1      211.363636          High  \n",
       "2      213.636364          High  \n",
       "3      388.636364          High  \n",
       "4      276.363636          High  "
      ]
     },
     "execution_count": 12,
     "metadata": {},
     "output_type": "execute_result"
    }
   ],
   "source": [
    "data1.head()"
   ]
  },
  {
   "cell_type": "code",
   "execution_count": 13,
   "id": "21947b24-dc89-49d3-8cb6-e888af9c1f7e",
   "metadata": {},
   "outputs": [
    {
     "data": {
      "text/plain": [
       " Yeezy       69592\n",
       "Off-White    27524\n",
       "Name: Brand, dtype: int64"
      ]
     },
     "execution_count": 13,
     "metadata": {},
     "output_type": "execute_result"
    }
   ],
   "source": [
    "pd.value_counts(data1.Brand) #two different shoe brands in the dataset"
   ]
  },
  {
   "cell_type": "code",
   "execution_count": 14,
   "id": "949cb186-d5d1-4c4d-889b-ebbf728f0d2d",
   "metadata": {},
   "outputs": [
    {
     "data": {
      "text/plain": [
       "adidas-Yeezy-Boost-350-V2-Butter                     10722\n",
       "Adidas-Yeezy-Boost-350-V2-Beluga-2pt0                10119\n",
       "Adidas-Yeezy-Boost-350-V2-Zebra                       9689\n",
       "Adidas-Yeezy-Boost-350-V2-Blue-Tint                   9110\n",
       "Adidas-Yeezy-Boost-350-V2-Cream-White                 8937\n",
       "Adidas-Yeezy-Boost-350-V2-Sesame                      5334\n",
       "Adidas-Yeezy-Boost-350-V2-Semi-Frozen-Yellow          4785\n",
       "adidas-Yeezy-Boost-350-V2-Static                      4660\n",
       "Air-Jordan-1-Retro-High-Off-White-University-Blue     4566\n",
       "adidas-Yeezy-Boost-350-V2-Static-Reflective           2971\n",
       "Nike-Air-Presto-Off-White-Black-2018                  1857\n",
       "Nike-Air-Presto-Off-White-White-2018                  1857\n",
       "Nike-Air-VaporMax-Off-White-2018                      1586\n",
       "Nike-Blazer-Mid-Off-White-All-Hallows-Eve             1424\n",
       "Nike-Blazer-Mid-Off-White-Grim-Reaper                 1387\n",
       "Nike-Zoom-Fly-Off-White-Pink                          1348\n",
       "Nike-Air-VaporMax-Off-White-Black                     1310\n",
       "Nike-Zoom-Fly-Off-White-Black-Silver                  1217\n",
       "Nike-Air-Force-1-Low-Off-White-Volt                   1005\n",
       "Adidas-Yeezy-Boost-350-V2-Core-Black-Red-2017          968\n",
       "Nike-Air-Force-1-Low-Off-White-Black-White             939\n",
       "Air-Jordan-1-Retro-High-Off-White-Chicago              755\n",
       "Nike-Air-Max-90-Off-White-Black                        697\n",
       "Nike-Zoom-Fly-Mercurial-Off-White-Total-Orange         653\n",
       "Nike-Zoom-Fly-Mercurial-Off-White-Black                643\n",
       "Nike-Air-Max-90-Off-White                              626\n",
       "Nike-Air-Max-90-Off-White-Desert-Ore                   624\n",
       "Adidas-Yeezy-Boost-350-V2-Core-Black-White             621\n",
       "Nike-Air-Presto-Off-White                              594\n",
       "Nike-Air-Max-97-Off-White                              544\n",
       "Nike-Air-VaporMax-Off-White                            525\n",
       "Nike-Blazer-Mid-Off-White                              499\n",
       "Adidas-Yeezy-Boost-350-Low-V2-Beluga                   498\n",
       "Nike-React-Hyperdunk-2017-Flyknit-Off-White            483\n",
       "Nike-Air-Force-1-Low-Off-White                         476\n",
       "Nike-Zoom-Fly-Off-White                                435\n",
       "Nike-Air-Max-97-Off-White-Menta                        342\n",
       "Air-Jordan-1-Retro-High-Off-White-White                313\n",
       "Adidas-Yeezy-Boost-350-V2-Core-Black-Red               302\n",
       "Nike-Air-Max-97-Off-White-Black                        289\n",
       "Nike-Blazer-Mid-Off-White-Wolf-Grey                    283\n",
       "Adidas-Yeezy-Boost-350-V2-Core-Black-Copper            225\n",
       "Nike-Air-Max-97-Off-White-Elemental-Rose-Queen         216\n",
       "Adidas-Yeezy-Boost-350-V2-Core-Black-Green             196\n",
       "Adidas-Yeezy-Boost-350-Low-Pirate-Black-2016           122\n",
       "Adidas-Yeezy-Boost-350-Low-Moonrock                    100\n",
       "Adidas-Yeezy-Boost-350-Low-Pirate-Black-2015            95\n",
       "Adidas-Yeezy-Boost-350-Low-Oxford-Tan                   70\n",
       "Adidas-Yeezy-Boost-350-Low-Turtledove                   68\n",
       "Nike-Air-Force-1-Low-Virgil-Abloh-Off-White-AF100       31\n",
       "Name: Sneaker_Name, dtype: int64"
      ]
     },
     "execution_count": 14,
     "metadata": {},
     "output_type": "execute_result"
    }
   ],
   "source": [
    "pd.value_counts(data1.Sneaker_Name) #Showing number of different sneakers name in the dataset\n",
    "\n"
   ]
  },
  {
   "cell_type": "code",
   "execution_count": 15,
   "id": "627db68c-7ef5-4f3c-b0c3-1d3679a140b2",
   "metadata": {},
   "outputs": [
    {
     "data": {
      "text/plain": [
       "50"
      ]
     },
     "execution_count": 15,
     "metadata": {},
     "output_type": "execute_result"
    }
   ],
   "source": [
    "len(pd.value_counts(data1.Sneaker_Name))\n"
   ]
  },
  {
   "cell_type": "code",
   "execution_count": 16,
   "id": "f208e748-3c03-46c9-9fda-7bcbe2a43159",
   "metadata": {
    "tags": []
   },
   "outputs": [],
   "source": [
    "#There are 50 types of different shoes in this dataset"
   ]
  },
  {
   "cell_type": "code",
   "execution_count": 17,
   "id": "4518b4c4-b1d7-4389-8b87-3efce90fa3b1",
   "metadata": {},
   "outputs": [
    {
     "data": {
      "text/plain": [
       "26"
      ]
     },
     "execution_count": 17,
     "metadata": {},
     "output_type": "execute_result"
    }
   ],
   "source": [
    "len(pd.value_counts(data1.Shoe_Size))\n"
   ]
  },
  {
   "cell_type": "code",
   "execution_count": 18,
   "id": "860cbc21-b5f7-4332-ac1f-98cd94fa9a61",
   "metadata": {
    "tags": []
   },
   "outputs": [],
   "source": [
    "##There are 26 types of different shoe sizes in this dataset"
   ]
  },
  {
   "cell_type": "code",
   "execution_count": 19,
   "id": "dd71f648-b62c-4461-bf84-ed0096c1ffe7",
   "metadata": {
    "tags": []
   },
   "outputs": [
    {
     "data": {
      "text/plain": [
       "51"
      ]
     },
     "execution_count": 19,
     "metadata": {},
     "output_type": "execute_result"
    }
   ],
   "source": [
    "len(pd.value_counts(data1.Buyer_Region))\n"
   ]
  },
  {
   "cell_type": "code",
   "execution_count": 20,
   "id": "194ad998-8ae4-4deb-ac18-4d377b4a6727",
   "metadata": {},
   "outputs": [],
   "source": [
    "## There are 51 different places of buyer's location"
   ]
  },
  {
   "cell_type": "code",
   "execution_count": 21,
   "id": "ada9a1ca-997f-4b52-880a-6c8168175232",
   "metadata": {},
   "outputs": [
    {
     "data": {
      "text/plain": [
       "High       81798\n",
       "Healthy     9722\n",
       "Poor        5596\n",
       "Name: Rating_Profit, dtype: int64"
      ]
     },
     "execution_count": 21,
     "metadata": {},
     "output_type": "execute_result"
    }
   ],
   "source": [
    "pd.value_counts(data1.Rating_Profit) #Count number of sales of each type of margin"
   ]
  },
  {
   "cell_type": "code",
   "execution_count": 22,
   "id": "8daf316e-5cba-4869-a19c-5d96d1f4c17d",
   "metadata": {
    "tags": []
   },
   "outputs": [
    {
     "data": {
      "text/plain": [
       "count    97116.000000\n",
       "mean       208.419622\n",
       "std         25.387780\n",
       "min        130.000000\n",
       "25%        200.000000\n",
       "50%        220.000000\n",
       "75%        220.000000\n",
       "max        250.000000\n",
       "Name: Retail_Price, dtype: float64"
      ]
     },
     "execution_count": 22,
     "metadata": {},
     "output_type": "execute_result"
    }
   ],
   "source": [
    "data1.Retail_Price.describe() #brief discription of the Retail Price column"
   ]
  },
  {
   "cell_type": "code",
   "execution_count": 23,
   "id": "e2b074e8-cacb-464a-adde-989f96b5b6b0",
   "metadata": {},
   "outputs": [
    {
     "data": {
      "text/plain": [
       "count    97116.000000\n",
       "mean       449.605873\n",
       "std        258.127755\n",
       "min        186.000000\n",
       "25%        275.000000\n",
       "50%        372.000000\n",
       "75%        545.000000\n",
       "max       4050.000000\n",
       "Name: Sale_Price, dtype: float64"
      ]
     },
     "execution_count": 23,
     "metadata": {},
     "output_type": "execute_result"
    }
   ],
   "source": [
    "data1.Sale_Price.describe() #brief discription of the Sale Price column"
   ]
  },
  {
   "cell_type": "code",
   "execution_count": 24,
   "id": "4726ee45-1abe-4e24-a5c8-52b0cf39bfdd",
   "metadata": {},
   "outputs": [
    {
     "data": {
      "text/plain": [
       "<AxesSubplot:>"
      ]
     },
     "execution_count": 24,
     "metadata": {},
     "output_type": "execute_result"
    },
    {
     "data": {
      "image/png": "[encoded data removed]",
      "text/plain": [
       "<Figure size 432x288 with 1 Axes>"
      ]
     },
     "metadata": {
      "needs_background": "light"
     },
     "output_type": "display_data"
    }
   ],
   "source": [
    "data1.Sale_Price.plot.box() # boxplot for the Sale_Price Column"
   ]
  },
  {
   "cell_type": "code",
   "execution_count": 25,
   "id": "0b43494f-cefa-485f-9864-2a04834009d5",
   "metadata": {},
   "outputs": [
    {
     "data": {
      "text/plain": [
       "count    97116.000000\n",
       "mean       241.186251\n",
       "std        268.251296\n",
       "min        -34.000000\n",
       "25%         59.000000\n",
       "50%        155.000000\n",
       "75%        350.000000\n",
       "max       3860.000000\n",
       "Name: Profit, dtype: float64"
      ]
     },
     "execution_count": 25,
     "metadata": {},
     "output_type": "execute_result"
    }
   ],
   "source": [
    "data1.Profit.describe() #Description of the Profit column"
   ]
  },
  {
   "cell_type": "code",
   "execution_count": 26,
   "id": "d8bcdbe7-5a32-4e28-8b74-f8a10200b426",
   "metadata": {
    "tags": []
   },
   "outputs": [
    {
     "data": {
      "text/plain": [
       "<AxesSubplot:>"
      ]
     },
     "execution_count": 26,
     "metadata": {},
     "output_type": "execute_result"
    },
    {
     "data": {
      "image/png": "[encoded data removed]",
      "text/plain": [
       "<Figure size 432x288 with 1 Axes>"
      ]
     },
     "metadata": {
      "needs_background": "light"
     },
     "output_type": "display_data"
    }
   ],
   "source": [
    "data1.Profit.plot.box() #Boxplot of the description column"
   ]
  },
  {
   "cell_type": "code",
   "execution_count": 27,
   "id": "536da29e-b515-4b4d-9e66-c3079b3e1fb0",
   "metadata": {
    "tags": []
   },
   "outputs": [
    {
     "data": {
      "text/html": [
       "<div>\n",
       "<style scoped>\n",
       "    .dataframe tbody tr th:only-of-type {\n",
       "        vertical-align: middle;\n",
       "    }\n",
       "\n",
       "    .dataframe tbody tr th {\n",
       "        vertical-align: top;\n",
       "    }\n",
       "\n",
       "    .dataframe thead th {\n",
       "        text-align: right;\n",
       "    }\n",
       "</style>\n",
       "<table border=\"1\" class=\"dataframe\">\n",
       "  <thead>\n",
       "    <tr style=\"text-align: right;\">\n",
       "      <th></th>\n",
       "      <th>Profit_Percent</th>\n",
       "    </tr>\n",
       "    <tr>\n",
       "      <th>Sneaker_Name</th>\n",
       "      <th></th>\n",
       "    </tr>\n",
       "  </thead>\n",
       "  <tbody>\n",
       "    <tr>\n",
       "      <th>Air-Jordan-1-Retro-High-Off-White-White</th>\n",
       "      <td>861.089625</td>\n",
       "    </tr>\n",
       "    <tr>\n",
       "      <th>Air-Jordan-1-Retro-High-Off-White-Chicago</th>\n",
       "      <td>831.473684</td>\n",
       "    </tr>\n",
       "    <tr>\n",
       "      <th>Nike-Air-Presto-Off-White</th>\n",
       "      <td>673.220749</td>\n",
       "    </tr>\n",
       "    <tr>\n",
       "      <th>Adidas-Yeezy-Boost-350-Low-Turtledove</th>\n",
       "      <td>665.830882</td>\n",
       "    </tr>\n",
       "    <tr>\n",
       "      <th>Nike-Air-Force-1-Low-Virgil-Abloh-Off-White-AF100</th>\n",
       "      <td>550.344086</td>\n",
       "    </tr>\n",
       "    <tr>\n",
       "      <th>Nike-Blazer-Mid-Off-White-Wolf-Grey</th>\n",
       "      <td>504.580049</td>\n",
       "    </tr>\n",
       "    <tr>\n",
       "      <th>Nike-Blazer-Mid-Off-White</th>\n",
       "      <td>435.521813</td>\n",
       "    </tr>\n",
       "    <tr>\n",
       "      <th>Adidas-Yeezy-Boost-350-Low-Oxford-Tan</th>\n",
       "      <td>405.757143</td>\n",
       "    </tr>\n",
       "    <tr>\n",
       "      <th>Adidas-Yeezy-Boost-350-Low-Moonrock</th>\n",
       "      <td>398.355000</td>\n",
       "    </tr>\n",
       "    <tr>\n",
       "      <th>Adidas-Yeezy-Boost-350-Low-Pirate-Black-2016</th>\n",
       "      <td>392.118852</td>\n",
       "    </tr>\n",
       "    <tr>\n",
       "      <th>Nike-Air-Max-97-Off-White-Elemental-Rose-Queen</th>\n",
       "      <td>370.411793</td>\n",
       "    </tr>\n",
       "    <tr>\n",
       "      <th>Nike-Blazer-Mid-Off-White-All-Hallows-Eve</th>\n",
       "      <td>366.079300</td>\n",
       "    </tr>\n",
       "    <tr>\n",
       "      <th>Nike-Air-Presto-Off-White-Black-2018</th>\n",
       "      <td>356.420638</td>\n",
       "    </tr>\n",
       "    <tr>\n",
       "      <th>Air-Jordan-1-Retro-High-Off-White-University-Blue</th>\n",
       "      <td>347.720797</td>\n",
       "    </tr>\n",
       "    <tr>\n",
       "      <th>Adidas-Yeezy-Boost-350-Low-Pirate-Black-2015</th>\n",
       "      <td>347.547368</td>\n",
       "    </tr>\n",
       "    <tr>\n",
       "      <th>Nike-Air-Max-90-Off-White</th>\n",
       "      <td>343.836861</td>\n",
       "    </tr>\n",
       "    <tr>\n",
       "      <th>Adidas-Yeezy-Boost-350-V2-Core-Black-Red</th>\n",
       "      <td>326.252258</td>\n",
       "    </tr>\n",
       "    <tr>\n",
       "      <th>Nike-Air-Force-1-Low-Off-White</th>\n",
       "      <td>322.036579</td>\n",
       "    </tr>\n",
       "    <tr>\n",
       "      <th>Nike-Blazer-Mid-Off-White-Grim-Reaper</th>\n",
       "      <td>306.657423</td>\n",
       "    </tr>\n",
       "    <tr>\n",
       "      <th>Nike-Air-Presto-Off-White-White-2018</th>\n",
       "      <td>296.315293</td>\n",
       "    </tr>\n",
       "    <tr>\n",
       "      <th>Nike-Air-Max-97-Off-White-Menta</th>\n",
       "      <td>296.171130</td>\n",
       "    </tr>\n",
       "    <tr>\n",
       "      <th>Adidas-Yeezy-Boost-350-V2-Core-Black-Red-2017</th>\n",
       "      <td>265.594947</td>\n",
       "    </tr>\n",
       "    <tr>\n",
       "      <th>Adidas-Yeezy-Boost-350-Low-V2-Beluga</th>\n",
       "      <td>258.502191</td>\n",
       "    </tr>\n",
       "    <tr>\n",
       "      <th>Nike-Air-Max-97-Off-White-Black</th>\n",
       "      <td>253.737024</td>\n",
       "    </tr>\n",
       "    <tr>\n",
       "      <th>Nike-Air-Max-97-Off-White</th>\n",
       "      <td>249.626548</td>\n",
       "    </tr>\n",
       "    <tr>\n",
       "      <th>Nike-Air-Max-90-Off-White-Black</th>\n",
       "      <td>245.395445</td>\n",
       "    </tr>\n",
       "    <tr>\n",
       "      <th>Nike-Air-VaporMax-Off-White</th>\n",
       "      <td>242.670476</td>\n",
       "    </tr>\n",
       "    <tr>\n",
       "      <th>Nike-Air-Max-90-Off-White-Desert-Ore</th>\n",
       "      <td>232.948718</td>\n",
       "    </tr>\n",
       "    <tr>\n",
       "      <th>Adidas-Yeezy-Boost-350-V2-Core-Black-White</th>\n",
       "      <td>226.551017</td>\n",
       "    </tr>\n",
       "    <tr>\n",
       "      <th>Nike-Zoom-Fly-Off-White</th>\n",
       "      <td>214.597701</td>\n",
       "    </tr>\n",
       "    <tr>\n",
       "      <th>Nike-Air-Force-1-Low-Off-White-Black-White</th>\n",
       "      <td>201.183988</td>\n",
       "    </tr>\n",
       "    <tr>\n",
       "      <th>Adidas-Yeezy-Boost-350-V2-Core-Black-Copper</th>\n",
       "      <td>198.468687</td>\n",
       "    </tr>\n",
       "    <tr>\n",
       "      <th>Adidas-Yeezy-Boost-350-V2-Core-Black-Green</th>\n",
       "      <td>183.091373</td>\n",
       "    </tr>\n",
       "    <tr>\n",
       "      <th>Nike-Air-VaporMax-Off-White-Black</th>\n",
       "      <td>151.411603</td>\n",
       "    </tr>\n",
       "    <tr>\n",
       "      <th>Nike-React-Hyperdunk-2017-Flyknit-Off-White</th>\n",
       "      <td>147.214286</td>\n",
       "    </tr>\n",
       "    <tr>\n",
       "      <th>Nike-Air-VaporMax-Off-White-2018</th>\n",
       "      <td>136.820933</td>\n",
       "    </tr>\n",
       "    <tr>\n",
       "      <th>Nike-Air-Force-1-Low-Off-White-Volt</th>\n",
       "      <td>130.282704</td>\n",
       "    </tr>\n",
       "    <tr>\n",
       "      <th>adidas-Yeezy-Boost-350-V2-Static-Reflective</th>\n",
       "      <td>113.318442</td>\n",
       "    </tr>\n",
       "    <tr>\n",
       "      <th>Nike-Zoom-Fly-Off-White-Black-Silver</th>\n",
       "      <td>86.296583</td>\n",
       "    </tr>\n",
       "    <tr>\n",
       "      <th>Adidas-Yeezy-Boost-350-V2-Beluga-2pt0</th>\n",
       "      <td>82.157148</td>\n",
       "    </tr>\n",
       "    <tr>\n",
       "      <th>Adidas-Yeezy-Boost-350-V2-Semi-Frozen-Yellow</th>\n",
       "      <td>77.950698</td>\n",
       "    </tr>\n",
       "    <tr>\n",
       "      <th>Nike-Zoom-Fly-Mercurial-Off-White-Black</th>\n",
       "      <td>77.076983</td>\n",
       "    </tr>\n",
       "    <tr>\n",
       "      <th>Adidas-Yeezy-Boost-350-V2-Blue-Tint</th>\n",
       "      <td>72.330057</td>\n",
       "    </tr>\n",
       "    <tr>\n",
       "      <th>Adidas-Yeezy-Boost-350-V2-Zebra</th>\n",
       "      <td>65.554518</td>\n",
       "    </tr>\n",
       "    <tr>\n",
       "      <th>Nike-Zoom-Fly-Off-White-Pink</th>\n",
       "      <td>59.391691</td>\n",
       "    </tr>\n",
       "    <tr>\n",
       "      <th>Nike-Zoom-Fly-Mercurial-Off-White-Total-Orange</th>\n",
       "      <td>43.998469</td>\n",
       "    </tr>\n",
       "    <tr>\n",
       "      <th>Adidas-Yeezy-Boost-350-V2-Cream-White</th>\n",
       "      <td>31.487941</td>\n",
       "    </tr>\n",
       "    <tr>\n",
       "      <th>adidas-Yeezy-Boost-350-V2-Static</th>\n",
       "      <td>30.525263</td>\n",
       "    </tr>\n",
       "    <tr>\n",
       "      <th>adidas-Yeezy-Boost-350-V2-Butter</th>\n",
       "      <td>22.312196</td>\n",
       "    </tr>\n",
       "    <tr>\n",
       "      <th>Adidas-Yeezy-Boost-350-V2-Sesame</th>\n",
       "      <td>20.078399</td>\n",
       "    </tr>\n",
       "  </tbody>\n",
       "</table>\n",
       "</div>"
      ],
      "text/plain": [
       "                                                   Profit_Percent\n",
       "Sneaker_Name                                                     \n",
       "Air-Jordan-1-Retro-High-Off-White-White                861.089625\n",
       "Air-Jordan-1-Retro-High-Off-White-Chicago              831.473684\n",
       "Nike-Air-Presto-Off-White                              673.220749\n",
       "Adidas-Yeezy-Boost-350-Low-Turtledove                  665.830882\n",
       "Nike-Air-Force-1-Low-Virgil-Abloh-Off-White-AF100      550.344086\n",
       "Nike-Blazer-Mid-Off-White-Wolf-Grey                    504.580049\n",
       "Nike-Blazer-Mid-Off-White                              435.521813\n",
       "Adidas-Yeezy-Boost-350-Low-Oxford-Tan                  405.757143\n",
       "Adidas-Yeezy-Boost-350-Low-Moonrock                    398.355000\n",
       "Adidas-Yeezy-Boost-350-Low-Pirate-Black-2016           392.118852\n",
       "Nike-Air-Max-97-Off-White-Elemental-Rose-Queen         370.411793\n",
       "Nike-Blazer-Mid-Off-White-All-Hallows-Eve              366.079300\n",
       "Nike-Air-Presto-Off-White-Black-2018                   356.420638\n",
       "Air-Jordan-1-Retro-High-Off-White-University-Blue      347.720797\n",
       "Adidas-Yeezy-Boost-350-Low-Pirate-Black-2015           347.547368\n",
       "Nike-Air-Max-90-Off-White                              343.836861\n",
       "Adidas-Yeezy-Boost-350-V2-Core-Black-Red               326.252258\n",
       "Nike-Air-Force-1-Low-Off-White                         322.036579\n",
       "Nike-Blazer-Mid-Off-White-Grim-Reaper                  306.657423\n",
       "Nike-Air-Presto-Off-White-White-2018                   296.315293\n",
       "Nike-Air-Max-97-Off-White-Menta                        296.171130\n",
       "Adidas-Yeezy-Boost-350-V2-Core-Black-Red-2017          265.594947\n",
       "Adidas-Yeezy-Boost-350-Low-V2-Beluga                   258.502191\n",
       "Nike-Air-Max-97-Off-White-Black                        253.737024\n",
       "Nike-Air-Max-97-Off-White                              249.626548\n",
       "Nike-Air-Max-90-Off-White-Black                        245.395445\n",
       "Nike-Air-VaporMax-Off-White                            242.670476\n",
       "Nike-Air-Max-90-Off-White-Desert-Ore                   232.948718\n",
       "Adidas-Yeezy-Boost-350-V2-Core-Black-White             226.551017\n",
       "Nike-Zoom-Fly-Off-White                                214.597701\n",
       "Nike-Air-Force-1-Low-Off-White-Black-White             201.183988\n",
       "Adidas-Yeezy-Boost-350-V2-Core-Black-Copper            198.468687\n",
       "Adidas-Yeezy-Boost-350-V2-Core-Black-Green             183.091373\n",
       "Nike-Air-VaporMax-Off-White-Black                      151.411603\n",
       "Nike-React-Hyperdunk-2017-Flyknit-Off-White            147.214286\n",
       "Nike-Air-VaporMax-Off-White-2018                       136.820933\n",
       "Nike-Air-Force-1-Low-Off-White-Volt                    130.282704\n",
       "adidas-Yeezy-Boost-350-V2-Static-Reflective            113.318442\n",
       "Nike-Zoom-Fly-Off-White-Black-Silver                    86.296583\n",
       "Adidas-Yeezy-Boost-350-V2-Beluga-2pt0                   82.157148\n",
       "Adidas-Yeezy-Boost-350-V2-Semi-Frozen-Yellow            77.950698\n",
       "Nike-Zoom-Fly-Mercurial-Off-White-Black                 77.076983\n",
       "Adidas-Yeezy-Boost-350-V2-Blue-Tint                     72.330057\n",
       "Adidas-Yeezy-Boost-350-V2-Zebra                         65.554518\n",
       "Nike-Zoom-Fly-Off-White-Pink                            59.391691\n",
       "Nike-Zoom-Fly-Mercurial-Off-White-Total-Orange          43.998469\n",
       "Adidas-Yeezy-Boost-350-V2-Cream-White                   31.487941\n",
       "adidas-Yeezy-Boost-350-V2-Static                        30.525263\n",
       "adidas-Yeezy-Boost-350-V2-Butter                        22.312196\n",
       "Adidas-Yeezy-Boost-350-V2-Sesame                        20.078399"
      ]
     },
     "execution_count": 27,
     "metadata": {},
     "output_type": "execute_result"
    }
   ],
   "source": [
    "data1.groupby('Sneaker_Name')[['Profit_Percent']].mean().sort_values(['Profit_Percent'], ascending = False) # Ranking sneakers name with the most profit percentage"
   ]
  },
  {
   "cell_type": "code",
   "execution_count": 28,
   "id": "d0c87009-ca23-450f-9acf-ea1d578e6d68",
   "metadata": {},
   "outputs": [
    {
     "data": {
      "text/html": [
       "<div>\n",
       "<style scoped>\n",
       "    .dataframe tbody tr th:only-of-type {\n",
       "        vertical-align: middle;\n",
       "    }\n",
       "\n",
       "    .dataframe tbody tr th {\n",
       "        vertical-align: top;\n",
       "    }\n",
       "\n",
       "    .dataframe thead th {\n",
       "        text-align: right;\n",
       "    }\n",
       "</style>\n",
       "<table border=\"1\" class=\"dataframe\">\n",
       "  <thead>\n",
       "    <tr style=\"text-align: right;\">\n",
       "      <th></th>\n",
       "      <th>min</th>\n",
       "      <th>max</th>\n",
       "    </tr>\n",
       "    <tr>\n",
       "      <th>Sneaker_Name</th>\n",
       "      <th></th>\n",
       "      <th></th>\n",
       "    </tr>\n",
       "  </thead>\n",
       "  <tbody>\n",
       "    <tr>\n",
       "      <th>Adidas-Yeezy-Boost-350-Low-Moonrock</th>\n",
       "      <td>730</td>\n",
       "      <td>2000</td>\n",
       "    </tr>\n",
       "    <tr>\n",
       "      <th>Adidas-Yeezy-Boost-350-Low-Oxford-Tan</th>\n",
       "      <td>741</td>\n",
       "      <td>1470</td>\n",
       "    </tr>\n",
       "    <tr>\n",
       "      <th>Adidas-Yeezy-Boost-350-Low-Pirate-Black-2015</th>\n",
       "      <td>721</td>\n",
       "      <td>1300</td>\n",
       "    </tr>\n",
       "    <tr>\n",
       "      <th>Adidas-Yeezy-Boost-350-Low-Pirate-Black-2016</th>\n",
       "      <td>675</td>\n",
       "      <td>1455</td>\n",
       "    </tr>\n",
       "    <tr>\n",
       "      <th>Adidas-Yeezy-Boost-350-Low-Turtledove</th>\n",
       "      <td>1042</td>\n",
       "      <td>2300</td>\n",
       "    </tr>\n",
       "    <tr>\n",
       "      <th>Adidas-Yeezy-Boost-350-Low-V2-Beluga</th>\n",
       "      <td>528</td>\n",
       "      <td>1490</td>\n",
       "    </tr>\n",
       "    <tr>\n",
       "      <th>Adidas-Yeezy-Boost-350-V2-Beluga-2pt0</th>\n",
       "      <td>200</td>\n",
       "      <td>840</td>\n",
       "    </tr>\n",
       "    <tr>\n",
       "      <th>Adidas-Yeezy-Boost-350-V2-Blue-Tint</th>\n",
       "      <td>286</td>\n",
       "      <td>2000</td>\n",
       "    </tr>\n",
       "    <tr>\n",
       "      <th>Adidas-Yeezy-Boost-350-V2-Core-Black-Copper</th>\n",
       "      <td>500</td>\n",
       "      <td>1095</td>\n",
       "    </tr>\n",
       "    <tr>\n",
       "      <th>Adidas-Yeezy-Boost-350-V2-Core-Black-Green</th>\n",
       "      <td>450</td>\n",
       "      <td>999</td>\n",
       "    </tr>\n",
       "    <tr>\n",
       "      <th>Adidas-Yeezy-Boost-350-V2-Core-Black-Red</th>\n",
       "      <td>650</td>\n",
       "      <td>1575</td>\n",
       "    </tr>\n",
       "    <tr>\n",
       "      <th>Adidas-Yeezy-Boost-350-V2-Core-Black-Red-2017</th>\n",
       "      <td>636</td>\n",
       "      <td>1515</td>\n",
       "    </tr>\n",
       "    <tr>\n",
       "      <th>Adidas-Yeezy-Boost-350-V2-Core-Black-White</th>\n",
       "      <td>570</td>\n",
       "      <td>1100</td>\n",
       "    </tr>\n",
       "    <tr>\n",
       "      <th>Adidas-Yeezy-Boost-350-V2-Cream-White</th>\n",
       "      <td>200</td>\n",
       "      <td>773</td>\n",
       "    </tr>\n",
       "    <tr>\n",
       "      <th>Adidas-Yeezy-Boost-350-V2-Semi-Frozen-Yellow</th>\n",
       "      <td>210</td>\n",
       "      <td>1825</td>\n",
       "    </tr>\n",
       "    <tr>\n",
       "      <th>Adidas-Yeezy-Boost-350-V2-Sesame</th>\n",
       "      <td>186</td>\n",
       "      <td>545</td>\n",
       "    </tr>\n",
       "    <tr>\n",
       "      <th>Adidas-Yeezy-Boost-350-V2-Zebra</th>\n",
       "      <td>256</td>\n",
       "      <td>899</td>\n",
       "    </tr>\n",
       "    <tr>\n",
       "      <th>Air-Jordan-1-Retro-High-Off-White-Chicago</th>\n",
       "      <td>983</td>\n",
       "      <td>4050</td>\n",
       "    </tr>\n",
       "    <tr>\n",
       "      <th>Air-Jordan-1-Retro-High-Off-White-University-Blue</th>\n",
       "      <td>430</td>\n",
       "      <td>3680</td>\n",
       "    </tr>\n",
       "    <tr>\n",
       "      <th>Air-Jordan-1-Retro-High-Off-White-White</th>\n",
       "      <td>1400</td>\n",
       "      <td>2950</td>\n",
       "    </tr>\n",
       "    <tr>\n",
       "      <th>Nike-Air-Force-1-Low-Off-White</th>\n",
       "      <td>385</td>\n",
       "      <td>1650</td>\n",
       "    </tr>\n",
       "    <tr>\n",
       "      <th>Nike-Air-Force-1-Low-Off-White-Black-White</th>\n",
       "      <td>310</td>\n",
       "      <td>741</td>\n",
       "    </tr>\n",
       "    <tr>\n",
       "      <th>Nike-Air-Force-1-Low-Off-White-Volt</th>\n",
       "      <td>275</td>\n",
       "      <td>950</td>\n",
       "    </tr>\n",
       "    <tr>\n",
       "      <th>Nike-Air-Force-1-Low-Virgil-Abloh-Off-White-AF100</th>\n",
       "      <td>710</td>\n",
       "      <td>1500</td>\n",
       "    </tr>\n",
       "    <tr>\n",
       "      <th>Nike-Air-Max-90-Off-White</th>\n",
       "      <td>450</td>\n",
       "      <td>2000</td>\n",
       "    </tr>\n",
       "    <tr>\n",
       "      <th>Nike-Air-Max-90-Off-White-Black</th>\n",
       "      <td>392</td>\n",
       "      <td>800</td>\n",
       "    </tr>\n",
       "    <tr>\n",
       "      <th>Nike-Air-Max-90-Off-White-Desert-Ore</th>\n",
       "      <td>414</td>\n",
       "      <td>765</td>\n",
       "    </tr>\n",
       "    <tr>\n",
       "      <th>Nike-Air-Max-97-Off-White</th>\n",
       "      <td>421</td>\n",
       "      <td>1300</td>\n",
       "    </tr>\n",
       "    <tr>\n",
       "      <th>Nike-Air-Max-97-Off-White-Black</th>\n",
       "      <td>513</td>\n",
       "      <td>1230</td>\n",
       "    </tr>\n",
       "    <tr>\n",
       "      <th>Nike-Air-Max-97-Off-White-Elemental-Rose-Queen</th>\n",
       "      <td>646</td>\n",
       "      <td>1290</td>\n",
       "    </tr>\n",
       "    <tr>\n",
       "      <th>Nike-Air-Max-97-Off-White-Menta</th>\n",
       "      <td>627</td>\n",
       "      <td>1362</td>\n",
       "    </tr>\n",
       "    <tr>\n",
       "      <th>Nike-Air-Presto-Off-White</th>\n",
       "      <td>750</td>\n",
       "      <td>2160</td>\n",
       "    </tr>\n",
       "    <tr>\n",
       "      <th>Nike-Air-Presto-Off-White-Black-2018</th>\n",
       "      <td>500</td>\n",
       "      <td>1500</td>\n",
       "    </tr>\n",
       "    <tr>\n",
       "      <th>Nike-Air-Presto-Off-White-White-2018</th>\n",
       "      <td>440</td>\n",
       "      <td>2100</td>\n",
       "    </tr>\n",
       "    <tr>\n",
       "      <th>Nike-Air-VaporMax-Off-White</th>\n",
       "      <td>520</td>\n",
       "      <td>2399</td>\n",
       "    </tr>\n",
       "    <tr>\n",
       "      <th>Nike-Air-VaporMax-Off-White-2018</th>\n",
       "      <td>430</td>\n",
       "      <td>1400</td>\n",
       "    </tr>\n",
       "    <tr>\n",
       "      <th>Nike-Air-VaporMax-Off-White-Black</th>\n",
       "      <td>400</td>\n",
       "      <td>1500</td>\n",
       "    </tr>\n",
       "    <tr>\n",
       "      <th>Nike-Blazer-Mid-Off-White</th>\n",
       "      <td>365</td>\n",
       "      <td>1600</td>\n",
       "    </tr>\n",
       "    <tr>\n",
       "      <th>Nike-Blazer-Mid-Off-White-All-Hallows-Eve</th>\n",
       "      <td>410</td>\n",
       "      <td>1200</td>\n",
       "    </tr>\n",
       "    <tr>\n",
       "      <th>Nike-Blazer-Mid-Off-White-Grim-Reaper</th>\n",
       "      <td>361</td>\n",
       "      <td>908</td>\n",
       "    </tr>\n",
       "    <tr>\n",
       "      <th>Nike-Blazer-Mid-Off-White-Wolf-Grey</th>\n",
       "      <td>550</td>\n",
       "      <td>1258</td>\n",
       "    </tr>\n",
       "    <tr>\n",
       "      <th>Nike-React-Hyperdunk-2017-Flyknit-Off-White</th>\n",
       "      <td>336</td>\n",
       "      <td>900</td>\n",
       "    </tr>\n",
       "    <tr>\n",
       "      <th>Nike-Zoom-Fly-Mercurial-Off-White-Black</th>\n",
       "      <td>238</td>\n",
       "      <td>600</td>\n",
       "    </tr>\n",
       "    <tr>\n",
       "      <th>Nike-Zoom-Fly-Mercurial-Off-White-Total-Orange</th>\n",
       "      <td>203</td>\n",
       "      <td>648</td>\n",
       "    </tr>\n",
       "    <tr>\n",
       "      <th>Nike-Zoom-Fly-Off-White</th>\n",
       "      <td>300</td>\n",
       "      <td>1700</td>\n",
       "    </tr>\n",
       "    <tr>\n",
       "      <th>Nike-Zoom-Fly-Off-White-Black-Silver</th>\n",
       "      <td>220</td>\n",
       "      <td>598</td>\n",
       "    </tr>\n",
       "    <tr>\n",
       "      <th>Nike-Zoom-Fly-Off-White-Pink</th>\n",
       "      <td>210</td>\n",
       "      <td>561</td>\n",
       "    </tr>\n",
       "    <tr>\n",
       "      <th>adidas-Yeezy-Boost-350-V2-Butter</th>\n",
       "      <td>190</td>\n",
       "      <td>770</td>\n",
       "    </tr>\n",
       "    <tr>\n",
       "      <th>adidas-Yeezy-Boost-350-V2-Static</th>\n",
       "      <td>222</td>\n",
       "      <td>800</td>\n",
       "    </tr>\n",
       "    <tr>\n",
       "      <th>adidas-Yeezy-Boost-350-V2-Static-Reflective</th>\n",
       "      <td>300</td>\n",
       "      <td>2000</td>\n",
       "    </tr>\n",
       "  </tbody>\n",
       "</table>\n",
       "</div>"
      ],
      "text/plain": [
       "                                                    min   max\n",
       "Sneaker_Name                                                 \n",
       "Adidas-Yeezy-Boost-350-Low-Moonrock                 730  2000\n",
       "Adidas-Yeezy-Boost-350-Low-Oxford-Tan               741  1470\n",
       "Adidas-Yeezy-Boost-350-Low-Pirate-Black-2015        721  1300\n",
       "Adidas-Yeezy-Boost-350-Low-Pirate-Black-2016        675  1455\n",
       "Adidas-Yeezy-Boost-350-Low-Turtledove              1042  2300\n",
       "Adidas-Yeezy-Boost-350-Low-V2-Beluga                528  1490\n",
       "Adidas-Yeezy-Boost-350-V2-Beluga-2pt0               200   840\n",
       "Adidas-Yeezy-Boost-350-V2-Blue-Tint                 286  2000\n",
       "Adidas-Yeezy-Boost-350-V2-Core-Black-Copper         500  1095\n",
       "Adidas-Yeezy-Boost-350-V2-Core-Black-Green          450   999\n",
       "Adidas-Yeezy-Boost-350-V2-Core-Black-Red            650  1575\n",
       "Adidas-Yeezy-Boost-350-V2-Core-Black-Red-2017       636  1515\n",
       "Adidas-Yeezy-Boost-350-V2-Core-Black-White          570  1100\n",
       "Adidas-Yeezy-Boost-350-V2-Cream-White               200   773\n",
       "Adidas-Yeezy-Boost-350-V2-Semi-Frozen-Yellow        210  1825\n",
       "Adidas-Yeezy-Boost-350-V2-Sesame                    186   545\n",
       "Adidas-Yeezy-Boost-350-V2-Zebra                     256   899\n",
       "Air-Jordan-1-Retro-High-Off-White-Chicago           983  4050\n",
       "Air-Jordan-1-Retro-High-Off-White-University-Blue   430  3680\n",
       "Air-Jordan-1-Retro-High-Off-White-White            1400  2950\n",
       "Nike-Air-Force-1-Low-Off-White                      385  1650\n",
       "Nike-Air-Force-1-Low-Off-White-Black-White          310   741\n",
       "Nike-Air-Force-1-Low-Off-White-Volt                 275   950\n",
       "Nike-Air-Force-1-Low-Virgil-Abloh-Off-White-AF100   710  1500\n",
       "Nike-Air-Max-90-Off-White                           450  2000\n",
       "Nike-Air-Max-90-Off-White-Black                     392   800\n",
       "Nike-Air-Max-90-Off-White-Desert-Ore                414   765\n",
       "Nike-Air-Max-97-Off-White                           421  1300\n",
       "Nike-Air-Max-97-Off-White-Black                     513  1230\n",
       "Nike-Air-Max-97-Off-White-Elemental-Rose-Queen      646  1290\n",
       "Nike-Air-Max-97-Off-White-Menta                     627  1362\n",
       "Nike-Air-Presto-Off-White                           750  2160\n",
       "Nike-Air-Presto-Off-White-Black-2018                500  1500\n",
       "Nike-Air-Presto-Off-White-White-2018                440  2100\n",
       "Nike-Air-VaporMax-Off-White                         520  2399\n",
       "Nike-Air-VaporMax-Off-White-2018                    430  1400\n",
       "Nike-Air-VaporMax-Off-White-Black                   400  1500\n",
       "Nike-Blazer-Mid-Off-White                           365  1600\n",
       "Nike-Blazer-Mid-Off-White-All-Hallows-Eve           410  1200\n",
       "Nike-Blazer-Mid-Off-White-Grim-Reaper               361   908\n",
       "Nike-Blazer-Mid-Off-White-Wolf-Grey                 550  1258\n",
       "Nike-React-Hyperdunk-2017-Flyknit-Off-White         336   900\n",
       "Nike-Zoom-Fly-Mercurial-Off-White-Black             238   600\n",
       "Nike-Zoom-Fly-Mercurial-Off-White-Total-Orange      203   648\n",
       "Nike-Zoom-Fly-Off-White                             300  1700\n",
       "Nike-Zoom-Fly-Off-White-Black-Silver                220   598\n",
       "Nike-Zoom-Fly-Off-White-Pink                        210   561\n",
       "adidas-Yeezy-Boost-350-V2-Butter                    190   770\n",
       "adidas-Yeezy-Boost-350-V2-Static                    222   800\n",
       "adidas-Yeezy-Boost-350-V2-Static-Reflective         300  2000"
      ]
     },
     "execution_count": 28,
     "metadata": {},
     "output_type": "execute_result"
    }
   ],
   "source": [
    "data1.groupby('Sneaker_Name').Sale_Price.agg(['min', 'max']) #Each Sneaker Name with the minimum sale price and maximum sale price"
   ]
  }
 ],
 "metadata": {
  "kernelspec": {
   "display_name": "Python 3.9.7 64-bit",
   "language": "python",
   "name": "python3"
  },
  "language_info": {
   "codemirror_mode": {
    "name": "ipython",
    "version": 3
   },
   "file_extension": ".py",
   "mimetype": "text/x-python",
   "name": "python",
   "nbconvert_exporter": "python",
   "pygments_lexer": "ipython3",
   "version": "3.9.7"
  },
  "vscode": {
   "interpreter": {
    "hash": "30c50835bb55419a173612ee4d65427e1f977c21a521231d2d4ce793f48ad58d"
   }
  }
 },
 "nbformat": 4,
 "nbformat_minor": 5
}
